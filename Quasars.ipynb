{
  "nbformat": 4,
  "nbformat_minor": 0,
  "metadata": {
    "colab": {
      "name": "Quasars.ipynb",
      "version": "0.3.2",
      "provenance": [],
      "collapsed_sections": [],
      "include_colab_link": true
    },
    "kernelspec": {
      "name": "python3",
      "display_name": "Python 3"
    }
  },
  "cells": [
    {
      "cell_type": "markdown",
      "metadata": {
        "id": "view-in-github",
        "colab_type": "text"
      },
      "source": [
        "<a href=\"https://colab.research.google.com/github/LambertLeong/ICS635_ML/blob/master/Quasars.ipynb\" target=\"_parent\"><img src=\"https://colab.research.google.com/assets/colab-badge.svg\" alt=\"Open In Colab\"/></a>"
      ]
    },
    {
      "metadata": {
        "id": "5YzYD5jqv79W",
        "colab_type": "code",
        "outputId": "d2d55cc4-4c5e-4629-8cf7-43ad10036c38",
        "colab": {
          "base_uri": "https://localhost:8080/",
          "height": 34
        }
      },
      "cell_type": "code",
      "source": [
        "# Build simple model for classifying quasars, galaxies, and stars. \n",
        "# Author Peter Sadowski\n",
        "# Adapted from https://www.kaggle.com/lucidlenn/sloan-digital-sky-survey/home\n",
        "\n",
        "import urllib\n",
        "import numpy as np\n",
        "import pandas as pd\n",
        "import sklearn\n",
        "import sklearn.model_selection\n",
        "import sklearn.metrics\n",
        "import sklearn.ensemble\n",
        "import matplotlib.pyplot as plt\n",
        "\n",
        "# Download data from Sloan Digital Sky Survey \n",
        "# https://www.sdss.org/dr14/\n",
        "url = 'https://raw.githubusercontent.com/peterjsadowski/sklearn_examples/master/sdss/sdss.csv'\n",
        "filename = 'sdss.csv'\n",
        "urllib.request.urlretrieve(url, filename)"
      ],
      "execution_count": 64,
      "outputs": [
        {
          "output_type": "execute_result",
          "data": {
            "text/plain": [
              "('sdss.csv', <http.client.HTTPMessage at 0x7f66755b5f60>)"
            ]
          },
          "metadata": {
            "tags": []
          },
          "execution_count": 64
        }
      ]
    },
    {
      "metadata": {
        "id": "f1CKZNeWyYhA",
        "colab_type": "code",
        "outputId": "194c1d53-c780-423f-dc64-5c1e3105774c",
        "colab": {
          "base_uri": "https://localhost:8080/",
          "height": 555
        }
      },
      "cell_type": "code",
      "source": [
        "# Features:\n",
        "# ra = J2000 Right Ascension (r-band)\n",
        "# dec = J2000 Declination (r-band)\n",
        "# u = better of DeV/Exp magnitude fit\n",
        "# g = better of DeV/Exp magnitude fit\n",
        "# r = better of DeV/Exp magnitude fit\n",
        "# i = better of DeV/Exp magnitude fit\n",
        "# z = better of DeV/Exp magnitude fit\n",
        "# redshift = Redshift\n",
        "# plate = plate number\n",
        "# mjd = MJD of observation\n",
        "# fiberid = fiber ID\n",
        "\n",
        "# The Thuan-Gunn astronomic magnitude system. u, g, r, i, z represent the response of the 5 bands of the telescope.\n",
        "# Redshift is the change in electromagnetic radiation due to the object moving away from the observer.\n",
        "\n",
        "data = pd.read_csv(filename)\n",
        "data.drop([\"objid\",\"specobjid\",\"run\",\"rerun\",\"camcol\",\"field\"], axis = 1, inplace = True) # Unused columns.\n",
        "\n",
        "print(data.head(n=5))\n",
        "print(data.info())"
      ],
      "execution_count": 65,
      "outputs": [
        {
          "output_type": "stream",
          "text": [
            "           ra       dec         u         g         r         i         z  \\\n",
            "0  183.531326  0.089693  19.47406  17.04240  15.94699  15.50342  15.22531   \n",
            "1  183.598371  0.135285  18.66280  17.21449  16.67637  16.48922  16.39150   \n",
            "2  183.680207  0.126185  19.38298  18.19169  17.47428  17.08732  16.80125   \n",
            "3  183.870529  0.049911  17.76536  16.60272  16.16116  15.98233  15.90438   \n",
            "4  183.883288  0.102557  17.55025  16.26342  16.43869  16.55492  16.61326   \n",
            "\n",
            "    class  redshift  plate    mjd  fiberid  \n",
            "0    STAR -0.000009   3306  54922      491  \n",
            "1    STAR -0.000055    323  51615      541  \n",
            "2  GALAXY  0.123111    287  52023      513  \n",
            "3    STAR -0.000111   3306  54922      510  \n",
            "4    STAR  0.000590   3306  54922      512  \n",
            "<class 'pandas.core.frame.DataFrame'>\n",
            "RangeIndex: 10000 entries, 0 to 9999\n",
            "Data columns (total 12 columns):\n",
            "ra          10000 non-null float64\n",
            "dec         10000 non-null float64\n",
            "u           10000 non-null float64\n",
            "g           10000 non-null float64\n",
            "r           10000 non-null float64\n",
            "i           10000 non-null float64\n",
            "z           10000 non-null float64\n",
            "class       10000 non-null object\n",
            "redshift    10000 non-null float64\n",
            "plate       10000 non-null int64\n",
            "mjd         10000 non-null int64\n",
            "fiberid     10000 non-null int64\n",
            "dtypes: float64(8), int64(3), object(1)\n",
            "memory usage: 937.6+ KB\n",
            "None\n"
          ],
          "name": "stdout"
        }
      ]
    },
    {
      "metadata": {
        "id": "bJEtqYXkzsac",
        "colab_type": "code",
        "outputId": "ba95b048-ec55-4587-8a0b-737f86bcaf18",
        "colab": {
          "base_uri": "https://localhost:8080/",
          "height": 139
        }
      },
      "cell_type": "code",
      "source": [
        "# Preprocess data.\n",
        "\n",
        "# Associate each class with a number.\n",
        "print(\"Mapping: \", dict(enumerate([\"GALAXY\",\"QUASAR\",\"STAR\"])))\n",
        "data[\"class\"] = data[\"class\"].astype(\"category\")\n",
        "data[\"class\"] = data[\"class\"].cat.codes\n",
        "print(data[\"class\"].value_counts().sort_index())\n",
        "\n",
        "# Split data set.\n",
        "features = data.drop(\"class\", axis = 1)\n",
        "labels = data[\"class\"].copy()\n",
        "X_train, X_test, y_train, y_test = sklearn.model_selection.train_test_split(features, labels, test_size=0.2, random_state=42, stratify=labels)\n",
        "#X_train, X_val, y_train, y_val = sklearn.model_selection.train_test_split(X_train, y_train, test_size=0.2, random_state=42, stratify=None)\n",
        "print('Train data shape:', X_train.shape, y_train.shape)\n",
        "#print('Val data shape:', X_val.shape, y_val.shape)\n",
        "print('Test data shape:' , X_test.shape, y_test.shape)\n"
      ],
      "execution_count": 141,
      "outputs": [
        {
          "output_type": "stream",
          "text": [
            "Mapping:  {0: 'GALAXY', 1: 'QUASAR', 2: 'STAR'}\n",
            "0    4998\n",
            "1     850\n",
            "2    4152\n",
            "Name: class, dtype: int64\n",
            "Train data shape: (8000, 11) (8000,)\n",
            "Test data shape: (2000, 11) (2000,)\n"
          ],
          "name": "stdout"
        }
      ]
    },
    {
      "metadata": {
        "id": "8syyIASHqglZ",
        "colab_type": "code",
        "colab": {}
      },
      "cell_type": "code",
      "source": [
        "#Feature Selection\n",
        "from sklearn.feature_selection import SelectKBest\n",
        "new_x_train = SelectKBest(k=2).fit_transform(X_train, y_train)\n",
        "new_y_train = y_train.values.tolist()\n",
        "#print(new_y_train)"
      ],
      "execution_count": 0,
      "outputs": []
    },
    {
      "metadata": {
        "id": "eXTfwZqllP4h",
        "colab_type": "code",
        "colab": {}
      },
      "cell_type": "code",
      "source": [
        "if 0: #useless\n",
        "  # Plot \n",
        "  #print(X_train[0])\n",
        "  cls0_0 = [new_x_train[ii][0] for ii in range(0, len(new_x_train)) if new_y_train[ii]==0]\n",
        "  cls1_0 = [new_x_train[ii][0] for ii in range(0, len(new_x_train)) if new_y_train[ii]==1]\n",
        "  cls2_0 = [new_x_train[ii][0] for ii in range(0, len(new_x_train)) if new_y_train[ii]==2]\n",
        "  cls0_1 = [new_x_train[ii][1] for ii in range(0, len(new_x_train)) if new_y_train[ii]==0]\n",
        "  cls1_1 = [new_x_train[ii][1] for ii in range(0, len(new_x_train)) if new_y_train[ii]==1]\n",
        "  cls2_1 = [new_x_train[ii][1] for ii in range(0, len(new_x_train)) if new_y_train[ii]==2]\n",
        "  #bumpy_slow = [features_train[ii][1] for ii in range(0, len(features_train)) if labels_train[ii]==1]\n",
        "\n",
        "  #print(len(cls0_1))\n",
        "  #### initial visualization\n",
        "  #plt.xlim(0.0, 1.0)\n",
        "  #plt.ylim(0.0, 1.0)\n",
        "  plt.scatter(cls0_0, cls0_1 , color = \"b\", label=\"cls0\")\n",
        "  plt.scatter(cls1_0, cls1_1, color = \"r\", label=\"cls1\")\n",
        "  plt.scatter(cls2_0, cls2_1, color = \"g\", label=\"cls1\")\n",
        "  plt.legend()\n",
        "  plt.xlabel(\"feat 1\")\n",
        "  plt.ylabel(\"feat 2\")\n",
        "  plt.show()\n"
      ],
      "execution_count": 0,
      "outputs": []
    },
    {
      "metadata": {
        "id": "KdbJMJBrZrZm",
        "colab_type": "code",
        "colab": {}
      },
      "cell_type": "code",
      "source": [
        "#sample_weights\n",
        "s_weights = []\n",
        "for i in range(0,len(new_y_train )):\n",
        "  if new_y_train[i] == 0:\n",
        "    s_weights.append(1)\n",
        "  elif new_y_train[i] == 1:\n",
        "    s_weights.append(5.88)\n",
        "  elif new_y_train[i] == 2:\n",
        "     s_weights.append(1.20)\n",
        "#print((y_train))\n",
        "#print(max(s_weights))"
      ],
      "execution_count": 0,
      "outputs": []
    },
    {
      "metadata": {
        "id": "bpRgD8HI1aSn",
        "colab_type": "code",
        "colab": {
          "base_uri": "https://localhost:8080/",
          "height": 52
        },
        "outputId": "66f10eb7-61a0-47c9-ff47-bab86e7de4bc"
      },
      "cell_type": "code",
      "source": [
        "# Train and test classifier:\n",
        "import sklearn.neighbors\n",
        "from sklearn.model_selection import cross_val_score\n",
        "classifier = sklearn.neighbors.KNeighborsClassifier(n_neighbors=9, algorithm = 'auto', radius = 1)\n",
        "classifier.fit(X_train, y_train)\n",
        "scores = cross_val_score(classifier, features, labels, cv=100)\n",
        "accuracy = classifier.score(X_test, y_test)\n",
        "print(\"CV accuracy: %0.4f (+/- %0.2f)\" % (scores.mean(), scores.std() * 2))\n",
        "print(f'Test accuracy: {accuracy}')"
      ],
      "execution_count": 132,
      "outputs": [
        {
          "output_type": "stream",
          "text": [
            "CV accuracy: 0.7674 (+/- 0.16)\n",
            "Test accuracy: 0.7865\n"
          ],
          "name": "stdout"
        }
      ]
    },
    {
      "metadata": {
        "id": "Q3R6cYStbzhc",
        "colab_type": "code",
        "outputId": "737a055b-cdae-49f8-d351-a7b3d232a376",
        "colab": {
          "base_uri": "https://localhost:8080/",
          "height": 86
        }
      },
      "cell_type": "code",
      "source": [
        "from sklearn.naive_bayes import GaussianNB\n",
        "gnb = GaussianNB()\n",
        "gnb = gnb.fit(X_train, y_train)#[1, 5.88, 1.20] [0:1, 1:5.88, 2:1.20]\n",
        "accuracy = gnb.score(X_test, y_test,) \n",
        "scores = cross_val_score(gnb, features, labels, cv=100)\n",
        "print(\"GNB CV Accuracy: %0.4f (+/- %0.4f)\" % (scores.mean(), scores.std() * 2))\n",
        "print(f'GNB Test accuracy: {accuracy}')\n",
        "\n",
        "p_gnb = gnb.partial_fit(X_train, y_train, sample_weight=s_weights)\n",
        "scores = cross_val_score(p_gnb, features, labels, cv=100)\n",
        "print(\"Partial GNB CV Accuracy: %0.4f (+/- %0.4f)\" % (scores.mean(), scores.std() * 2))\n",
        "p_accuracy = p_gnb.score(X_test, y_test)\n",
        "print(f'partial GNB Test accuracy: {p_accuracy}')\n"
      ],
      "execution_count": 163,
      "outputs": [
        {
          "output_type": "stream",
          "text": [
            "GNB CV Accuracy: 0.8563 (+/- 0.1516)\n",
            "GNB Test accuracy: 0.8625\n",
            "Partial GNB CV Accuracy: 0.8563 (+/- 0.1516)\n",
            "partial GNB Test accuracy: 0.8535\n"
          ],
          "name": "stdout"
        }
      ]
    },
    {
      "metadata": {
        "id": "0Hjjg7YRhIHa",
        "colab_type": "code",
        "outputId": "a3e283e3-1595-41fb-c627-55ccdd3f31b6",
        "colab": {
          "base_uri": "https://localhost:8080/",
          "height": 52
        }
      },
      "cell_type": "code",
      "source": [
        "from sklearn.discriminant_analysis import LinearDiscriminantAnalysis\n",
        "LDA = LinearDiscriminantAnalysis(priors=None, shrinkage=None, solver='svd', store_covariance=False, tol=0.0001)\n",
        "#LDA = LinearDiscriminantAnalysis(n_components=None, priors=None, shrinkage=None, solver='lsqr', store_covariance=False, tol=0.0001)\n",
        "LDA.fit(X_train, y_train)\n",
        "accuracy = LDA.score(X_test, y_test)\n",
        "scores = cross_val_score(LDA, features, labels, cv=100)\n",
        "print(\"LDA CV Accuracy: %0.4f (+/- %0.4f)\" % (scores.mean(), scores.std() * 2))\n",
        "print(f'partial LDA Test accuracy: {accuracy}')"
      ],
      "execution_count": 171,
      "outputs": [
        {
          "output_type": "stream",
          "text": [
            "LDA CV Accuracy: 0.9073 (+/- 0.1023)\n",
            "partial LDA Test accuracy: 0.892\n"
          ],
          "name": "stdout"
        }
      ]
    },
    {
      "metadata": {
        "id": "92X1V55ni4hh",
        "colab_type": "code",
        "outputId": "655a720d-eff0-41d8-8676-7734360aa10b",
        "colab": {
          "base_uri": "https://localhost:8080/",
          "height": 52
        }
      },
      "cell_type": "code",
      "source": [
        "from sklearn.discriminant_analysis import QuadraticDiscriminantAnalysis\n",
        "qda = QuadraticDiscriminantAnalysis(priors=None, reg_param=0.0,\n",
        "                              store_covariance=False,\n",
        "                              store_covariances=None, tol=0.0001)\n",
        "qda.fit(X_train, y_train)\n",
        "scores = cross_val_score(qda, features, labels, cv=100)\n",
        "accuracy = qda.score(X_test, y_test)\n",
        "print(\"qda CV Accuracy: %0.4f (+/- %0.4f)\" % (scores.mean(), scores.std() * 2))\n",
        "print(f'qda Test accuracy: {accuracy}')"
      ],
      "execution_count": 173,
      "outputs": [
        {
          "output_type": "stream",
          "text": [
            "qda CV Accuracy: 0.9812 (+/- 0.0321)\n",
            "qda Test accuracy: 0.9815\n"
          ],
          "name": "stdout"
        }
      ]
    },
    {
      "metadata": {
        "id": "3HjGBqmfxONH",
        "colab_type": "code",
        "outputId": "75c1f701-8353-4ef7-db1f-2629f4ead2e8",
        "colab": {
          "base_uri": "https://localhost:8080/",
          "height": 52
        }
      },
      "cell_type": "code",
      "source": [
        "from sklearn.tree import DecisionTreeClassifier\n",
        "tree = DecisionTreeClassifier(max_depth = 3)\n",
        "tree = tree.fit(X_train, y_train)\n",
        "scores = cross_val_score(tree, features, labels, cv=100)\n",
        "accuracy = tree.score(X_test, y_test)\n",
        "print(\"dTree CV Accuracy: %0.4f (+/- %0.4f)\" % (scores.mean(), scores.std() * 2))\n",
        "print(f'dTree Test accuracy: {accuracy}')"
      ],
      "execution_count": 182,
      "outputs": [
        {
          "output_type": "stream",
          "text": [
            "dTree CV Accuracy: 0.9873 (+/- 0.0269)\n",
            "dTree Test accuracy: 0.991\n"
          ],
          "name": "stdout"
        }
      ]
    },
    {
      "metadata": {
        "id": "BWVjT7YFmKDR",
        "colab_type": "code",
        "colab": {
          "base_uri": "https://localhost:8080/",
          "height": 52
        },
        "outputId": "8f1f9235-705f-442b-8cd6-76ab0a0a2f4f"
      },
      "cell_type": "code",
      "source": [
        "from sklearn.ensemble import GradientBoostingClassifier\n",
        "xgb = GradientBoostingClassifier(n_estimators=100, learning_rate=1.0, max_depth=3, random_state=0)\n",
        "xgb = xgb.fit(X_train, y_train)\n",
        "scores = cross_val_score(xgb, features, labels, cv=100)\n",
        "accuracy = xgb.score(X_test, y_test)\n",
        "print(\"dTree CV Accuracy: %0.4f (+/- %0.4f)\" % (scores.mean(), scores.std() * 2))\n",
        "print(f'dTree Test accuracy: {accuracy}')"
      ],
      "execution_count": 184,
      "outputs": [
        {
          "output_type": "stream",
          "text": [
            "dTree CV Accuracy: 0.9428 (+/- 0.3020)\n",
            "dTree Test accuracy: 0.989\n"
          ],
          "name": "stdout"
        }
      ]
    }
  ]
}