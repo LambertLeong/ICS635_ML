{
  "nbformat": 4,
  "nbformat_minor": 0,
  "metadata": {
    "colab": {
      "name": "Copy of sklearn_classifier.ipynb",
      "version": "0.3.2",
      "provenance": [],
      "collapsed_sections": [],
      "include_colab_link": true
    },
    "kernelspec": {
      "name": "python3",
      "display_name": "Python 3"
    }
  },
  "cells": [
    {
      "cell_type": "markdown",
      "metadata": {
        "id": "view-in-github",
        "colab_type": "text"
      },
      "source": [
        "<a href=\"https://colab.research.google.com/github/LambertLeong/ICS635_ML/blob/master/Copy_of_sklearn_classifier.ipynb\" target=\"_parent\"><img src=\"https://colab.research.google.com/assets/colab-badge.svg\" alt=\"Open In Colab\"/></a>"
      ]
    },
    {
      "metadata": {
        "id": "39Tfh8_n_DbK",
        "colab_type": "code",
        "outputId": "c0c7ca30-5d15-4839-b879-4f7c20f3987c",
        "colab": {
          "base_uri": "https://localhost:8080/",
          "height": 1087
        }
      },
      "cell_type": "code",
      "source": [
        "# This notebook provides an example of how to use sklearn classifiers.\n",
        "# Loads data from train_data.csv.\n",
        "\n",
        "import numpy as np\n",
        "import matplotlib.pyplot as plt\n",
        "%matplotlib inline\n",
        "import sklearn\n",
        "from sklearn import linear_model\n",
        "from sklearn.model_selection import cross_val_score\n",
        "# For more details see https://scikit-learn.org/stable/modules/linear_model.html\n",
        "\n",
        "# Load data.\n",
        "data_url = 'https://raw.githubusercontent.com/peterjsadowski/sklearn_examples/master/training_data.csv'\n",
        "localfile = np.DataSource(destpath='./').open(data_url).name\n",
        "print(localfile)\n",
        "data = np.loadtxt(localfile, skiprows=1, delimiter=',')\n",
        "Y = data[:, 0] \n",
        "X = data[:, 1:]\n",
        "\n",
        "# Plot features. \n",
        "feature_names = ['age', 'income', 'exercise', 'diet']\n",
        "for i in range(X.shape[1]):\n",
        "    plt.figure(i)\n",
        "    plt.hist(X[Y==0, i], label='Class 0', alpha=0.3)\n",
        "    plt.hist(X[Y==1, i], label='Class 1', alpha=0.3)\n",
        "    plt.title(feature_names[i])\n",
        "    plt.legend()"
      ],
      "execution_count": 0,
      "outputs": [
        {
          "output_type": "stream",
          "text": [
            "/content/raw.githubusercontent.com/peterjsadowski/sklearn_examples/master/training_data.csv\n"
          ],
          "name": "stdout"
        },
        {
          "output_type": "display_data",
          "data": {
            "image/png": "[encoded data removed]",
            "text/plain": [
              "<matplotlib.figure.Figure at 0x7f0ddbdba550>"
            ]
          },
          "metadata": {
            "tags": []
          }
        },
        {
          "output_type": "display_data",
          "data": {
            "image/png": "[encoded data removed]",
            "text/plain": [
              "<matplotlib.figure.Figure at 0x7f0dbda2db00>"
            ]
          },
          "metadata": {
            "tags": []
          }
        },
        {
          "output_type": "display_data",
          "data": {
            "image/png": "[encoded data removed]",
            "text/plain": [
              "<matplotlib.figure.Figure at 0x7f0dbd9ffa20>"
            ]
          },
          "metadata": {
            "tags": []
          }
        },
        {
          "output_type": "display_data",
          "data": {
            "image/png": "[encoded data removed]",
            "text/plain": [
              "<matplotlib.figure.Figure at 0x7f0dbd96fcf8>"
            ]
          },
          "metadata": {
            "tags": []
          }
        }
      ]
    },
    {
      "metadata": {
        "id": "_K8v8opzr13z",
        "colab_type": "code",
        "outputId": "26459c8f-dd8d-4ffe-c339-c7b34fe1ad57",
        "colab": {
          "base_uri": "https://localhost:8080/",
          "height": 161
        }
      },
      "cell_type": "code",
      "source": [
        "### Classifier \n",
        "\n",
        "# Preprocess data.\n",
        "X[:, 0] /= 100. \n",
        "X[:, 1] /= 100000.\n",
        "\n",
        "# Divide data into train and validation set.\n",
        "N_train, N_valid = 900, 100\n",
        "X_train, X_valid = X[0:N_train, :], X[N_train:, :]\n",
        "y_train, y_valid = Y[0:N_train], Y[N_train:]\n",
        "\n",
        "# Define a classifier model. (Lots of options to choose from.)\n",
        "clf = linear_model.SGDClassifier(loss='hinge', penalty='l2', alpha=0.1, \n",
        "        learning_rate='constant', eta0=0.01, max_iter=10000, tol=1e-6)\n",
        "#clf = linear_model.RidgeClassifier(alpha=0.1)\n",
        "#clf = sklearn.neighbors.KNeighborsClassifier(n_neighbors=1, metric='euclidean')\n",
        "\n",
        "# Fit/train/learn.\n",
        "clf.fit(X_train, y_train)\n",
        "\n",
        "# Compute accuracy on training data.\n",
        "accuracy_train = clf.score(X_train, y_train)\n",
        "print(f'Training accuracy: {accuracy_train:0.2}')\n",
        "\n",
        "# Compute accuracy on validation data.\n",
        "y_predicted = clf.predict(X_valid)\n",
        "accuracy_valid = np.sum(y_predicted == y_valid) / len(y_predicted)\n",
        "print(f'Validation accuracy: {accuracy_valid:0.2}')\n",
        "print('Validation predictions: ', y_predicted)\n",
        "\n",
        "print('Coefficients: ', clf.coef_, clf.intercept_)"
      ],
      "execution_count": 0,
      "outputs": [
        {
          "output_type": "stream",
          "text": [
            "Training accuracy: 0.74\n",
            "Validation accuracy: 0.73\n",
            "Validation predictions:  [0. 0. 1. 1. 0. 0. 0. 1. 1. 1. 1. 0. 1. 0. 0. 1. 1. 0. 1. 0. 0. 0. 1. 0.\n",
            " 0. 1. 0. 1. 0. 1. 1. 0. 1. 0. 1. 1. 0. 0. 1. 1. 0. 0. 0. 1. 1. 1. 0. 1.\n",
            " 1. 1. 0. 1. 1. 1. 1. 0. 0. 1. 1. 1. 0. 0. 1. 1. 1. 1. 0. 1. 0. 1. 1. 1.\n",
            " 0. 0. 0. 0. 0. 0. 1. 1. 1. 1. 0. 0. 1. 1. 0. 1. 1. 0. 0. 0. 1. 0. 0. 0.\n",
            " 1. 1. 0. 0.]\n",
            "Coefficients:  [[-3.87765884e-05 -2.74293276e-10 -1.00042198e+00 -1.01486631e+00]] [1.]\n"
          ],
          "name": "stdout"
        }
      ]
    },
    {
      "metadata": {
        "id": "vMh3TajN5o7C",
        "colab_type": "code",
        "outputId": "bd4ab58e-8085-44ae-9994-9bb2eb29a4d7",
        "colab": {
          "base_uri": "https://localhost:8080/",
          "height": 53
        }
      },
      "cell_type": "code",
      "source": [
        "### Example of Cross-Validation\n",
        "from sklearn.model_selection import cross_val_score\n",
        "clf = linear_model.SGDClassifier(loss='hinge', penalty='l2', alpha=0.1, \n",
        "        learning_rate='constant', eta0=0.01, max_iter=10000, tol=1e-6)\n",
        "cv_scores = cross_val_score(clf, X, Y, cv=5)\n",
        "print('Cross-validation accuracies: ', cv_scores)\n",
        "print('Mean CV accuracy: %0.2f' % np.mean(cv_scores))"
      ],
      "execution_count": 0,
      "outputs": [
        {
          "output_type": "stream",
          "text": [
            "Cross-validation accuracies:  [0.61691542 0.755      0.72       0.695      0.64321608]\n",
            "Mean CV accuracy: 0.69\n"
          ],
          "name": "stdout"
        }
      ]
    }
  ]
}